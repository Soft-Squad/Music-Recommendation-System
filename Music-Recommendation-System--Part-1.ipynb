{
 "cells": [
  {
   "cell_type": "markdown",
   "id": "90f2b6f2",
   "metadata": {},
   "source": [
    "# Winters, Alexander (V00970263)\n",
    "# Music Recommendation System Part 1"
   ]
  },
  {
   "cell_type": "code",
   "execution_count": 1,
   "id": "a0b43970",
   "metadata": {},
   "outputs": [],
   "source": [
    "import spotipy\n",
    "from spotipy.oauth2 import SpotifyClientCredentials"
   ]
  },
  {
   "cell_type": "code",
   "execution_count": 2,
   "id": "ea20ce5e",
   "metadata": {},
   "outputs": [],
   "source": [
    "import numpy as np\n",
    "np.random.seed(1337)"
   ]
  },
  {
   "cell_type": "code",
   "execution_count": 3,
   "id": "289e0c3a",
   "metadata": {},
   "outputs": [],
   "source": [
    "import pandas as pd"
   ]
  },
  {
   "cell_type": "markdown",
   "id": "e9e6bf27",
   "metadata": {},
   "source": [
    "## Authenticate w/ Spotify's API"
   ]
  },
  {
   "cell_type": "code",
   "execution_count": 4,
   "id": "aa1041c6",
   "metadata": {},
   "outputs": [],
   "source": [
    "cid = ''\n",
    "secret = ''"
   ]
  },
  {
   "cell_type": "code",
   "execution_count": 5,
   "id": "9a0b3977",
   "metadata": {},
   "outputs": [],
   "source": [
    "# Authentication without user\n",
    "client_credentials_manager = SpotifyClientCredentials(client_id=cid, client_secret=secret)\n",
    "sp = spotipy.Spotify(client_credentials_manager=client_credentials_manager)"
   ]
  },
  {
   "cell_type": "code",
   "execution_count": 6,
   "id": "2d7fcf0e",
   "metadata": {},
   "outputs": [],
   "source": [
    "# Create df's\n",
    "artist_columns = ['id', 'name', 'genres', 'popularity']\n",
    "playlist_one_artist_df = pd.DataFrame(columns=artist_columns)\n",
    "playlist_two_artist_df = pd.DataFrame(columns=artist_columns)\n",
    "\n",
    "track_columns = ['id', 'name', 'popularity', 'duration_ms', 'artists', 'id_artists', 'release_date', \n",
    "                 'danceability', 'energy', 'key', 'loudness', 'mode', 'speechiness', 'acousticness', 'instrumentalness', \n",
    "                 'liveness', 'valence', 'tempo', 'time_signature']\n",
    "playlist_one_tracks_df = pd.DataFrame(columns=track_columns)\n",
    "playlist_two_tracks_df = pd.DataFrame(columns=track_columns)"
   ]
  },
  {
   "cell_type": "markdown",
   "id": "1d47a4cf",
   "metadata": {},
   "source": [
    "## Get Track Information "
   ]
  },
  {
   "cell_type": "code",
   "execution_count": 7,
   "id": "5ab36f5d",
   "metadata": {},
   "outputs": [],
   "source": [
    "def get_track_info(playlist_uri, offset, idx, artist_df, tracks_df):\n",
    "    \n",
    "    playlist_one_track_id = []\n",
    "    playlist_one_track_name = []\n",
    "    playlist_one_track_popularity = []\n",
    "    playlist_one_track_release_date = []\n",
    "    playlist_one_artist_ids = []\n",
    "    playlist_one_artist_names = []\n",
    "    playlist_one_artist_pop  = []\n",
    "    playlist_one_artist_genres = []\n",
    "\n",
    "    i = idx # Where to add the row\n",
    "    j = 0 # Add to offset -- usually 100 at a time\n",
    "\n",
    "    # Get artist info from playlist_one\n",
    "    for track in sp.playlist_tracks(playlist_uri, offset=offset)['items']:\n",
    "\n",
    "        # Track ID\n",
    "        playlist_one_track_id = track['track']['id'] \n",
    "        # Track Name\n",
    "        playlist_one_track_name = track['track']['name']\n",
    "        # Track Popularity\n",
    "        playlist_one_track_popularity = track['track']['popularity']\n",
    "        # Track Release Date\n",
    "        playlist_one_track_release_date = track['track']['album']['release_date']\n",
    "\n",
    "\n",
    "        #Artists \n",
    "        artist_list = []\n",
    "        artist_ids = []\n",
    "        for artist in track['track']['artists']:\n",
    "            artist_list = artist['name']\n",
    "            artist_ids = artist['id']\n",
    "\n",
    "            # Get more artist info\n",
    "            playlist_one_artist_info = sp.artist(artist_ids)\n",
    "\n",
    "            # Popularity, Genre\n",
    "            playlist_one_artist_pop = playlist_one_artist_info['popularity']\n",
    "            playlist_one_artist_genres = playlist_one_artist_info['genres']\n",
    "\n",
    "            artist_row = {'id':artist['id'],\n",
    "                          'name':artist['name'],\n",
    "                          'genres':playlist_one_artist_genres,\n",
    "                          'popularity':playlist_one_artist_pop\n",
    "                         }\n",
    "        artist_df.loc[i] = artist_row\n",
    "\n",
    "        playlist_one_artist_names = artist_list\n",
    "        playlist_one_artist_ids = artist_ids\n",
    "\n",
    "        # Get audio features and store in tracks_df\n",
    "        features = sp.audio_features(playlist_one_track_id)\n",
    "        new_row = {'id':playlist_one_track_id,\n",
    "                   'name':playlist_one_track_name,\n",
    "                   'popularity':playlist_one_track_popularity,\n",
    "                   'duration_ms':features[0]['duration_ms'],\n",
    "                   'artists':playlist_one_artist_names,\n",
    "                   'id_artists':playlist_one_artist_ids,\n",
    "                   'release_date':playlist_one_track_release_date,\n",
    "                   'danceability':features[0]['danceability'],\n",
    "                   'energy':features[0]['energy'],\n",
    "                   'key':features[0]['key'],\n",
    "                   'loudness':features[0]['loudness'],\n",
    "                   'mode':features[0]['mode'],\n",
    "                   'speechiness':features[0]['speechiness'],\n",
    "                   'acousticness':features[0]['acousticness'],\n",
    "                   'instrumentalness':features[0]['instrumentalness'],\n",
    "                   'liveness':features[0]['liveness'],\n",
    "                   'valence':features[0]['valence'],\n",
    "                   'tempo':features[0]['tempo'],\n",
    "                   'time_signature':features[0]['time_signature']\n",
    "                   }\n",
    "\n",
    "        tracks_df.loc[i] = new_row\n",
    "\n",
    "        i += 1\n",
    "        j += 1\n",
    "        \n",
    "    \n",
    "    return artist_df, tracks_df, j, i\n"
   ]
  },
  {
   "cell_type": "code",
   "execution_count": 8,
   "id": "facb5656",
   "metadata": {},
   "outputs": [],
   "source": [
    "# Two very different playlists to test on\n",
    "playlist_link_one = 'https://open.spotify.com/playlist/51bV1ikI9qzJGm0d9ix21Y?si=ea3cdb71a17f425f'\n",
    "playlist_link_two = 'https://open.spotify.com/playlist/5jJBKcZxlxBjH2mYY5fVgT?si=90e74b2e92d94bde'\n",
    "\n",
    "# Get playlist URI's\n",
    "playlist_one_uri = playlist_link_one.split('/')[-1].split('?')[0]\n",
    "playlist_two_uri = playlist_link_two.split('/')[-1].split('?')[0]"
   ]
  },
  {
   "cell_type": "code",
   "execution_count": null,
   "id": "c39f157f",
   "metadata": {},
   "outputs": [],
   "source": [
    "# Get the length of playlist_one\n",
    "playlist_one_results = sp.playlist_tracks(playlist_one_uri)\n",
    "num_playlist_one_tracks = len(playlist_one_results['items'])\n",
    "while playlist_one_results['next']:\n",
    "    playlist_one_results = sp.next(playlist_one_results)\n",
    "    num_playlist_one_tracks += len(playlist_one_results['items'])  \n",
    "\n",
    "\n",
    "offset_total = 0\n",
    "idx = 0\n",
    "while offset_total < num_playlist_one_tracks:\n",
    "    playlist_one_artist_df, playlist_one_tracks_df, offset , idx = get_track_info(playlist_one_uri, offset_total, idx, playlist_one_artist_df, playlist_one_tracks_df)\n",
    "    offset_total += offset"
   ]
  },
  {
   "cell_type": "code",
   "execution_count": 10,
   "id": "8b2bea95",
   "metadata": {},
   "outputs": [],
   "source": [
    "# Get the length of playlist_two\n",
    "playlist_two_results = sp.playlist_tracks(playlist_two_uri)\n",
    "num_playlist_two_tracks = len(playlist_two_results['items'])\n",
    "while playlist_two_results['next']:\n",
    "    playlist_two_results = sp.next(playlist_two_results)\n",
    "    num_playlist_two_tracks += len(playlist_two_results['items'])  \n",
    "\n",
    "\n",
    "offset_total = 0\n",
    "idx = 0\n",
    "while offset_total < num_playlist_two_tracks:\n",
    "    playlist_two_artist_df, playlist_two_tracks_df, offset , idx = get_track_info(playlist_two_uri, offset_total, idx, playlist_two_artist_df, playlist_two_tracks_df)\n",
    "    offset_total += offset"
   ]
  },
  {
   "cell_type": "markdown",
   "id": "761511fd",
   "metadata": {},
   "source": [
    "## Save Datasets Locally"
   ]
  },
  {
   "cell_type": "code",
   "execution_count": null,
   "id": "f2028a57",
   "metadata": {},
   "outputs": [],
   "source": [
    "playlist_one_tracks_df.to_csv('playlist_one_tracks.csv', index=False)"
   ]
  },
  {
   "cell_type": "code",
   "execution_count": null,
   "id": "c1fc0173",
   "metadata": {},
   "outputs": [],
   "source": [
    "playlist_one_artist_df.drop_duplicates(subset='name', keep='first', inplace=True)"
   ]
  },
  {
   "cell_type": "code",
   "execution_count": null,
   "id": "b76cfdb1",
   "metadata": {},
   "outputs": [],
   "source": [
    "playlist_one_artist_df.info()"
   ]
  },
  {
   "cell_type": "code",
   "execution_count": null,
   "id": "f88b73cb",
   "metadata": {},
   "outputs": [],
   "source": [
    "playlist_one_artist_df.to_csv('playlist_one_artists.csv', index=False)"
   ]
  },
  {
   "cell_type": "code",
   "execution_count": 13,
   "id": "70a22e7f",
   "metadata": {},
   "outputs": [],
   "source": [
    "playlist_two_tracks_df.to_csv('playlist_two_tracks.csv', index=False)"
   ]
  },
  {
   "cell_type": "code",
   "execution_count": 15,
   "id": "cc403c1a",
   "metadata": {},
   "outputs": [],
   "source": [
    "playlist_two_artist_df.drop_duplicates(subset='name', keep='first', inplace=True)"
   ]
  },
  {
   "cell_type": "code",
   "execution_count": 17,
   "id": "3dfea738",
   "metadata": {},
   "outputs": [],
   "source": [
    "playlist_two_artist_df.to_csv('playlist_two_artists.csv', index=False)"
   ]
  }
 ],
 "metadata": {
  "kernelspec": {
   "display_name": "Python 3 (ipykernel)",
   "language": "python",
   "name": "python3"
  },
  "language_info": {
   "codemirror_mode": {
    "name": "ipython",
    "version": 3
   },
   "file_extension": ".py",
   "mimetype": "text/x-python",
   "name": "python",
   "nbconvert_exporter": "python",
   "pygments_lexer": "ipython3",
   "version": "3.9.15"
  }
 },
 "nbformat": 4,
 "nbformat_minor": 5
}
